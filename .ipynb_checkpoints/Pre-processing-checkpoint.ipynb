{
 "cells": [
  {
   "cell_type": "markdown",
   "metadata": {},
   "source": [
    "# Importar bibliotecas básicas"
   ]
  },
  {
   "cell_type": "code",
   "execution_count": 1,
   "metadata": {},
   "outputs": [
    {
     "name": "stdout",
     "output_type": "stream",
     "text": [
      "Requirement already satisfied: sklearn in /opt/conda/envs/beakerx/lib/python3.6/site-packages (0.0)\r\n",
      "Requirement already satisfied: scikit-learn in /opt/conda/envs/beakerx/lib/python3.6/site-packages (from sklearn) (0.24.2)\r\n",
      "Requirement already satisfied: numpy>=1.13.3 in /opt/conda/envs/beakerx/lib/python3.6/site-packages (from scikit-learn->sklearn) (1.19.5)\r\n",
      "Requirement already satisfied: scipy>=0.19.1 in /opt/conda/envs/beakerx/lib/python3.6/site-packages (from scikit-learn->sklearn) (1.5.4)\r\n",
      "Requirement already satisfied: joblib>=0.11 in /opt/conda/envs/beakerx/lib/python3.6/site-packages (from scikit-learn->sklearn) (1.1.1)\r\n",
      "Requirement already satisfied: threadpoolctl>=2.0.0 in /opt/conda/envs/beakerx/lib/python3.6/site-packages (from scikit-learn->sklearn) (3.1.0)\r\n"
     ]
    }
   ],
   "source": [
    "!pip install sklearn"
   ]
  },
  {
   "cell_type": "code",
   "execution_count": 2,
   "metadata": {},
   "outputs": [
    {
     "name": "stdout",
     "output_type": "stream",
     "text": [
      "Requirement already satisfied: scikit-learn in /opt/conda/envs/beakerx/lib/python3.6/site-packages (0.24.2)\n",
      "Requirement already satisfied: numpy>=1.13.3 in /opt/conda/envs/beakerx/lib/python3.6/site-packages (from scikit-learn) (1.19.5)\n",
      "Requirement already satisfied: joblib>=0.11 in /opt/conda/envs/beakerx/lib/python3.6/site-packages (from scikit-learn) (1.1.1)\n",
      "Requirement already satisfied: threadpoolctl>=2.0.0 in /opt/conda/envs/beakerx/lib/python3.6/site-packages (from scikit-learn) (3.1.0)\n",
      "Requirement already satisfied: scipy>=0.19.1 in /opt/conda/envs/beakerx/lib/python3.6/site-packages (from scikit-learn) (1.5.4)\n"
     ]
    }
   ],
   "source": [
    "!pip install scikit-learn"
   ]
  },
  {
   "cell_type": "code",
   "execution_count": 3,
   "metadata": {},
   "outputs": [
    {
     "name": "stdout",
     "output_type": "stream",
     "text": [
      "Requirement already satisfied: sklearn.preprocessing in /opt/conda/envs/beakerx/lib/python3.6/site-packages (0.1.0)\r\n"
     ]
    }
   ],
   "source": [
    "!pip install sklearn.preprocessing"
   ]
  },
  {
   "cell_type": "code",
   "execution_count": 4,
   "metadata": {},
   "outputs": [
    {
     "name": "stdout",
     "output_type": "stream",
     "text": [
      "Requirement already satisfied: cython in /opt/conda/envs/beakerx/lib/python3.6/site-packages (3.0.8)\r\n"
     ]
    }
   ],
   "source": [
    "!pip install cython"
   ]
  },
  {
   "cell_type": "code",
   "execution_count": 5,
   "metadata": {},
   "outputs": [
    {
     "name": "stdout",
     "output_type": "stream",
     "text": [
      "Requirement already satisfied: pip in /opt/conda/envs/beakerx/lib/python3.6/site-packages (21.3.1)\r\n"
     ]
    }
   ],
   "source": [
    "!pip install --upgrade pip"
   ]
  },
  {
   "cell_type": "code",
   "execution_count": 6,
   "metadata": {
    "scrolled": true
   },
   "outputs": [
    {
     "name": "stdout",
     "output_type": "stream",
     "text": [
      "Requirement already satisfied: seaborn in /opt/conda/envs/beakerx/lib/python3.6/site-packages (0.11.2)\r\n",
      "Requirement already satisfied: numpy>=1.15 in /opt/conda/envs/beakerx/lib/python3.6/site-packages (from seaborn) (1.19.5)\r\n",
      "Requirement already satisfied: matplotlib>=2.2 in /opt/conda/envs/beakerx/lib/python3.6/site-packages (from seaborn) (3.3.4)\r\n",
      "Requirement already satisfied: pandas>=0.23 in /opt/conda/envs/beakerx/lib/python3.6/site-packages (from seaborn) (0.23.0)\r\n",
      "Requirement already satisfied: scipy>=1.0 in /opt/conda/envs/beakerx/lib/python3.6/site-packages (from seaborn) (1.5.4)\r\n",
      "Requirement already satisfied: pyparsing!=2.0.4,!=2.1.2,!=2.1.6,>=2.0.3 in /opt/conda/envs/beakerx/lib/python3.6/site-packages (from matplotlib>=2.2->seaborn) (3.0.7)\r\n",
      "Requirement already satisfied: python-dateutil>=2.1 in /opt/conda/envs/beakerx/lib/python3.6/site-packages (from matplotlib>=2.2->seaborn) (2.7.3)\r\n",
      "Requirement already satisfied: kiwisolver>=1.0.1 in /opt/conda/envs/beakerx/lib/python3.6/site-packages (from matplotlib>=2.2->seaborn) (1.3.1)\r\n",
      "Requirement already satisfied: cycler>=0.10 in /opt/conda/envs/beakerx/lib/python3.6/site-packages (from matplotlib>=2.2->seaborn) (0.11.0)\r\n",
      "Requirement already satisfied: pillow>=6.2.0 in /opt/conda/envs/beakerx/lib/python3.6/site-packages (from matplotlib>=2.2->seaborn) (8.4.0)\r\n",
      "Requirement already satisfied: pytz>=2011k in /opt/conda/envs/beakerx/lib/python3.6/site-packages (from pandas>=0.23->seaborn) (2018.4)\r\n",
      "Requirement already satisfied: six>=1.5 in /opt/conda/envs/beakerx/lib/python3.6/site-packages (from python-dateutil>=2.1->matplotlib>=2.2->seaborn) (1.11.0)\r\n"
     ]
    }
   ],
   "source": [
    "!pip install seaborn"
   ]
  },
  {
   "cell_type": "code",
   "execution_count": 7,
   "metadata": {},
   "outputs": [
    {
     "name": "stdout",
     "output_type": "stream",
     "text": [
      "Requirement already satisfied: plotly in /opt/conda/envs/beakerx/lib/python3.6/site-packages (5.18.0)\n",
      "Requirement already satisfied: packaging in /opt/conda/envs/beakerx/lib/python3.6/site-packages (from plotly) (21.3)\n",
      "Requirement already satisfied: tenacity>=6.2.0 in /opt/conda/envs/beakerx/lib/python3.6/site-packages (from plotly) (8.2.2)\n",
      "Requirement already satisfied: pyparsing!=3.0.5,>=2.0.2 in /opt/conda/envs/beakerx/lib/python3.6/site-packages (from packaging->plotly) (3.0.7)\n"
     ]
    }
   ],
   "source": [
    "!pip install plotly"
   ]
  },
  {
   "cell_type": "code",
   "execution_count": 8,
   "metadata": {},
   "outputs": [],
   "source": [
    "import pandas as pd\n",
    "import numpy as np\n",
    "import seaborn as sns\n",
    "import matplotlib.pyplot as plt\n",
    "import plotly.express as px\n",
    "import sklearn"
   ]
  },
  {
   "cell_type": "markdown",
   "metadata": {},
   "source": [
    "# Importar dados"
   ]
  },
  {
   "cell_type": "code",
   "execution_count": 9,
   "metadata": {},
   "outputs": [],
   "source": [
    "data = pd.read_csv('data/raw/loan_data.csv')"
   ]
  },
  {
   "cell_type": "code",
   "execution_count": 10,
   "metadata": {},
   "outputs": [
    {
     "data": {
      "application/vnd.jupyter.widget-view+json": {
       "model_id": "d4801dace2354198baf167bbb07c4144",
       "version_major": 2,
       "version_minor": 0
      }
     },
     "metadata": {},
     "output_type": "display_data"
    }
   ],
   "source": [
    "data.sample(300)"
   ]
  },
  {
   "cell_type": "markdown",
   "metadata": {},
   "source": [
    "# Tratamento de dados"
   ]
  },
  {
   "cell_type": "code",
   "execution_count": 11,
   "metadata": {},
   "outputs": [
    {
     "name": "stdout",
     "output_type": "stream",
     "text": [
      "<class 'pandas.core.frame.DataFrame'>\n",
      "RangeIndex: 381 entries, 0 to 380\n",
      "Data columns (total 13 columns):\n",
      "Loan_ID              381 non-null object\n",
      "Gender               376 non-null object\n",
      "Married              381 non-null object\n",
      "Dependents           373 non-null object\n",
      "Education            381 non-null object\n",
      "Self_Employed        360 non-null object\n",
      "ApplicantIncome      381 non-null int64\n",
      "CoapplicantIncome    381 non-null float64\n",
      "LoanAmount           381 non-null float64\n",
      "Loan_Amount_Term     370 non-null float64\n",
      "Credit_History       351 non-null float64\n",
      "Property_Area        381 non-null object\n",
      "Loan_Status          381 non-null object\n",
      "dtypes: float64(4), int64(1), object(8)\n",
      "memory usage: 38.8+ KB\n"
     ]
    }
   ],
   "source": [
    "data.info()"
   ]
  },
  {
   "cell_type": "markdown",
   "metadata": {},
   "source": [
    "Como é possível ver abaixo, há diversos valores nulos. Algumas estratégias sugeridas para cada atributo seriam:\n",
    "-    Gender -> Remoção\n",
    "-    Dependents -> Remoção\n",
    "-    Self_Employed -> Substituir por moda\n",
    "-    Loan_Amount_Term -> Substituir por moda\n",
    "-    Credit_History -> Substituir por moda"
   ]
  },
  {
   "cell_type": "code",
   "execution_count": 12,
   "metadata": {},
   "outputs": [
    {
     "data": {
      "text/plain": [
       "Loan_ID               0\n",
       "Gender                5\n",
       "Married               0\n",
       "Dependents            8\n",
       "Education             0\n",
       "Self_Employed        21\n",
       "ApplicantIncome       0\n",
       "CoapplicantIncome     0\n",
       "LoanAmount            0\n",
       "Loan_Amount_Term     11\n",
       "Credit_History       30\n",
       "Property_Area         0\n",
       "Loan_Status           0\n",
       "dtype: int64"
      ]
     },
     "execution_count": 12,
     "metadata": {},
     "output_type": "execute_result"
    }
   ],
   "source": [
    "data.isnull().sum()"
   ]
  },
  {
   "cell_type": "code",
   "execution_count": 13,
   "metadata": {},
   "outputs": [
    {
     "name": "stdout",
     "output_type": "stream",
     "text": [
      "moda do histórico de crédito: 1.0\n"
     ]
    }
   ],
   "source": [
    "moda = data['Credit_History'].mode()\n",
    "print(f\"moda do histórico de crédito: {moda[0]}\")\n",
    "data['Credit_History'] = data['Credit_History'].fillna(moda[0])"
   ]
  },
  {
   "cell_type": "code",
   "execution_count": 14,
   "metadata": {},
   "outputs": [
    {
     "name": "stdout",
     "output_type": "stream",
     "text": [
      "moda do histórico de crédito: No\n"
     ]
    }
   ],
   "source": [
    "moda = data['Self_Employed'].mode()\n",
    "print(f\"moda do histórico de crédito: {moda[0]}\")\n",
    "data['Self_Employed'] = data['Self_Employed'].fillna(moda[0])"
   ]
  },
  {
   "cell_type": "code",
   "execution_count": 15,
   "metadata": {},
   "outputs": [
    {
     "name": "stdout",
     "output_type": "stream",
     "text": [
      "moda do histórico de crédito: 360.0\n"
     ]
    }
   ],
   "source": [
    "moda = data['Loan_Amount_Term'].mode()\n",
    "print(f\"moda do histórico de crédito: {moda[0]}\")\n",
    "data['Loan_Amount_Term'] = data['Loan_Amount_Term'].fillna(moda[0])"
   ]
  },
  {
   "cell_type": "code",
   "execution_count": 16,
   "metadata": {},
   "outputs": [],
   "source": [
    "data.dropna(inplace=True)"
   ]
  },
  {
   "cell_type": "code",
   "execution_count": 17,
   "metadata": {},
   "outputs": [
    {
     "name": "stdout",
     "output_type": "stream",
     "text": [
      "<class 'pandas.core.frame.DataFrame'>\n",
      "Int64Index: 368 entries, 0 to 380\n",
      "Data columns (total 13 columns):\n",
      "Loan_ID              368 non-null object\n",
      "Gender               368 non-null object\n",
      "Married              368 non-null object\n",
      "Dependents           368 non-null object\n",
      "Education            368 non-null object\n",
      "Self_Employed        368 non-null object\n",
      "ApplicantIncome      368 non-null int64\n",
      "CoapplicantIncome    368 non-null float64\n",
      "LoanAmount           368 non-null float64\n",
      "Loan_Amount_Term     368 non-null float64\n",
      "Credit_History       368 non-null float64\n",
      "Property_Area        368 non-null object\n",
      "Loan_Status          368 non-null object\n",
      "dtypes: float64(4), int64(1), object(8)\n",
      "memory usage: 40.2+ KB\n"
     ]
    }
   ],
   "source": [
    "data.info()"
   ]
  },
  {
   "cell_type": "markdown",
   "metadata": {},
   "source": [
    "# LabelEncoder"
   ]
  },
  {
   "cell_type": "code",
   "execution_count": 18,
   "metadata": {},
   "outputs": [
    {
     "name": "stdout",
     "output_type": "stream",
     "text": [
      "<class 'pandas.core.frame.DataFrame'>\n",
      "Int64Index: 368 entries, 0 to 380\n",
      "Data columns (total 13 columns):\n",
      "Loan_ID              368 non-null int64\n",
      "Gender               368 non-null int64\n",
      "Married              368 non-null int64\n",
      "Dependents           368 non-null int64\n",
      "Education            368 non-null int64\n",
      "Self_Employed        368 non-null int64\n",
      "ApplicantIncome      368 non-null int64\n",
      "CoapplicantIncome    368 non-null float64\n",
      "LoanAmount           368 non-null float64\n",
      "Loan_Amount_Term     368 non-null float64\n",
      "Credit_History       368 non-null float64\n",
      "Property_Area        368 non-null int64\n",
      "Loan_Status          368 non-null int64\n",
      "dtypes: float64(4), int64(9)\n",
      "memory usage: 40.2 KB\n"
     ]
    }
   ],
   "source": [
    "from sklearn.preprocessing import LabelEncoder\n",
    "\n",
    "atributos_para_encode = ['Loan_ID','Gender','Married','Dependents','Education','Self_Employed'\n",
    "                         ,'Property_Area','Loan_Status']\n",
    "for atributo in atributos_para_encode:\n",
    "    le = LabelEncoder()\n",
    "    data[atributo] = le.fit_transform(data[atributo].values)\n",
    "\n",
    "data.head()\n",
    "data.info()"
   ]
  },
  {
   "cell_type": "markdown",
   "metadata": {},
   "source": [
    "# Divisão entre previsores e classe"
   ]
  },
  {
   "cell_type": "code",
   "execution_count": 19,
   "metadata": {},
   "outputs": [],
   "source": [
    "Y = data.Loan_Status.values\n",
    "data.drop('Loan_Status',axis=1,inplace=True)\n",
    "\n",
    "X = data.values\n"
   ]
  },
  {
   "cell_type": "markdown",
   "metadata": {},
   "source": [
    "# Normalização"
   ]
  },
  {
   "cell_type": "code",
   "execution_count": 21,
   "metadata": {},
   "outputs": [
    {
     "data": {
      "application/vnd.jupyter.widget-view+json": {
       "model_id": "ce04d013a19e4dc6860b63c0bf6b58d3",
       "version_major": 2,
       "version_minor": 0
      }
     },
     "metadata": {},
     "output_type": "display_data"
    }
   ],
   "source": [
    "from sklearn.preprocessing import MinMaxScaler\n",
    "\n",
    "minmax_scaler = MinMaxScaler()\n",
    "x_norm        = minmax_scaler.fit_transform(X)\n",
    "data          = pd.DataFrame(x_norm)\n",
    "data.head()"
   ]
  },
  {
   "cell_type": "markdown",
   "metadata": {},
   "source": [
    "# PCA - redução de dimensões"
   ]
  },
  {
   "cell_type": "code",
   "execution_count": null,
   "metadata": {},
   "outputs": [],
   "source": []
  },
  {
   "cell_type": "code",
   "execution_count": null,
   "metadata": {},
   "outputs": [],
   "source": []
  }
 ],
 "metadata": {
  "kernelspec": {
   "display_name": "Python 3",
   "language": "python",
   "name": "python3"
  },
  "language_info": {
   "codemirror_mode": {
    "name": "ipython",
    "version": 3
   },
   "file_extension": ".py",
   "mimetype": "text/x-python",
   "name": "python",
   "nbconvert_exporter": "python",
   "pygments_lexer": "ipython3",
   "version": "3.6.5"
  },
  "toc": {
   "base_numbering": 1,
   "nav_menu": {},
   "number_sections": false,
   "sideBar": false,
   "skip_h1_title": false,
   "title_cell": "Table of Contents",
   "title_sidebar": "Contents",
   "toc_cell": false,
   "toc_position": {},
   "toc_section_display": false,
   "toc_window_display": false
  }
 },
 "nbformat": 4,
 "nbformat_minor": 2
}
