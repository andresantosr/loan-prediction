{
 "cells": [
  {
   "cell_type": "code",
   "execution_count": null,
   "id": "7e73dcfa-b063-48e5-aecf-a78d5e69c690",
   "metadata": {},
   "outputs": [],
   "source": []
  }
 ],
 "metadata": {
  "kernelspec": {
   "display_name": "",
   "name": ""
  },
  "language_info": {
   "name": ""
  }
 },
 "nbformat": 4,
 "nbformat_minor": 5
}
